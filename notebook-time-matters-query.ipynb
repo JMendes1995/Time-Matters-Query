{
 "cells": [
  {
   "cell_type": "markdown",
   "metadata": {
    "slideshow": {
     "slide_type": "skip"
    }
   },
   "source": [
    "<b><center><font size=\"4\">Time Matters Query</font></center></b>\n",
    "<hr>"
   ]
  },
  {
   "cell_type": "markdown",
   "metadata": {
    "slideshow": {
     "slide_type": "skip"
    }
   },
   "source": [
    "**Notebook Developed by**: [Ricardo Campos](http://www.ccc.ipt.pt/~ricardo)<br>\n",
    "**email:**  ricardo.campos@ipt.pt<br>\n",
    "**Affiliation:** *Assistant Professor* @ [Polytechnic Institute of Tomar](http://portal2.ipt.pt/en/);\n",
    "*Researcher* @ [LIAAD](https://www.inesctec.pt/en/centres/liaad)-[INESC TEC](https://www.inesctec.pt/en)\n",
    "\n",
    "<hr>"
   ]
  },
  {
   "cell_type": "markdown",
   "metadata": {
    "toc": true
   },
   "source": [
    "<h1>Table of Contents<span class=\"tocSkip\"></span></h1>\n",
    "<div class=\"toc\"><ul class=\"toc-item\"><li><span><a href=\"#Time-Matters-Query\" data-toc-modified-id=\"Time-Matters-Query-1\"><span class=\"toc-item-num\">1&nbsp;&nbsp;</span>Time-Matters-Query</a></span><ul class=\"toc-item\"><li><span><a href=\"#What-is-Time-Matters-Query?\" data-toc-modified-id=\"What-is-Time-Matters-Query?-1.1\"><span class=\"toc-item-num\">1.1&nbsp;&nbsp;</span>What is Time-Matters-Query?</a></span></li><li><span><a href=\"#Who-developed-this-package?\" data-toc-modified-id=\"Who-developed-this-package?-1.2\"><span class=\"toc-item-num\">1.2&nbsp;&nbsp;</span>Who developed this package?</a></span></li><li><span><a href=\"#Where-can-I-find-Time-Matters?\" data-toc-modified-id=\"Where-can-I-find-Time-Matters?-1.3\"><span class=\"toc-item-num\">1.3&nbsp;&nbsp;</span>Where can I find Time-Matters?</a></span></li><li><span><a href=\"#Installation\" data-toc-modified-id=\"Installation-1.4\"><span class=\"toc-item-num\">1.4&nbsp;&nbsp;</span>Installation</a></span></li><li><span><a href=\"#Usage\" data-toc-modified-id=\"Usage-1.5\"><span class=\"toc-item-num\">1.5&nbsp;&nbsp;</span>Usage</a></span><ul class=\"toc-item\"><li><span><a href=\"#Arquivo.pt\" data-toc-modified-id=\"Arquivo.pt-1.5.1\"><span class=\"toc-item-num\">1.5.1&nbsp;&nbsp;</span>Arquivo.pt</a></span><ul class=\"toc-item\"><li><span><a href=\"#By-Query\" data-toc-modified-id=\"By-Query-1.5.1.1\"><span class=\"toc-item-num\">1.5.1.1&nbsp;&nbsp;</span>By Query</a></span><ul class=\"toc-item\"><li><span><a href=\"#fullContentLenght_Arquivo\" data-toc-modified-id=\"fullContentLenght_Arquivo-1.5.1.1.1\"><span class=\"toc-item-num\">1.5.1.1.1&nbsp;&nbsp;</span>fullContentLenght_Arquivo</a></span></li><li><span><a href=\"#snippet\" data-toc-modified-id=\"snippet-1.5.1.1.2\"><span class=\"toc-item-num\">1.5.1.1.2&nbsp;&nbsp;</span>snippet</a></span></li><li><span><a href=\"#title\" data-toc-modified-id=\"title-1.5.1.1.3\"><span class=\"toc-item-num\">1.5.1.1.3&nbsp;&nbsp;</span>title</a></span></li><li><span><a href=\"#crawledDate\" data-toc-modified-id=\"crawledDate-1.5.1.1.4\"><span class=\"toc-item-num\">1.5.1.1.4&nbsp;&nbsp;</span>crawledDate</a></span></li><li><span><a href=\"#url\" data-toc-modified-id=\"url-1.5.1.1.5\"><span class=\"toc-item-num\">1.5.1.1.5&nbsp;&nbsp;</span>url</a></span></li><li><span><a href=\"#domain\" data-toc-modified-id=\"domain-1.5.1.1.6\"><span class=\"toc-item-num\">1.5.1.1.6&nbsp;&nbsp;</span>domain</a></span></li></ul></li><li><span><a href=\"#By-Query---Newspaper3k-=-True\" data-toc-modified-id=\"By-Query---Newspaper3k-=-True-1.5.1.2\"><span class=\"toc-item-num\">1.5.1.2&nbsp;&nbsp;</span>By Query - Newspaper3k = True</a></span><ul class=\"toc-item\"><li><span><a href=\"#fullContentLenght_Newspaper3K\" data-toc-modified-id=\"fullContentLenght_Newspaper3K-1.5.1.2.1\"><span class=\"toc-item-num\">1.5.1.2.1&nbsp;&nbsp;</span>fullContentLenght_Newspaper3K</a></span></li><li><span><a href=\"#Summary_Newspaper3k\" data-toc-modified-id=\"Summary_Newspaper3k-1.5.1.2.2\"><span class=\"toc-item-num\">1.5.1.2.2&nbsp;&nbsp;</span>Summary_Newspaper3k</a></span></li><li><span><a href=\"#snippet\" data-toc-modified-id=\"snippet-1.5.1.2.3\"><span class=\"toc-item-num\">1.5.1.2.3&nbsp;&nbsp;</span>snippet</a></span></li><li><span><a href=\"#title\" data-toc-modified-id=\"title-1.5.1.2.4\"><span class=\"toc-item-num\">1.5.1.2.4&nbsp;&nbsp;</span>title</a></span></li><li><span><a href=\"#url\" data-toc-modified-id=\"url-1.5.1.2.5\"><span class=\"toc-item-num\">1.5.1.2.5&nbsp;&nbsp;</span>url</a></span></li><li><span><a href=\"#domain\" data-toc-modified-id=\"domain-1.5.1.2.6\"><span class=\"toc-item-num\">1.5.1.2.6&nbsp;&nbsp;</span>domain</a></span></li></ul></li><li><span><a href=\"#By-URL\" data-toc-modified-id=\"By-URL-1.5.1.3\"><span class=\"toc-item-num\">1.5.1.3&nbsp;&nbsp;</span>By URL</a></span><ul class=\"toc-item\"><li><span><a href=\"#fullContentLenght_Arquivo\" data-toc-modified-id=\"fullContentLenght_Arquivo-1.5.1.3.1\"><span class=\"toc-item-num\">1.5.1.3.1&nbsp;&nbsp;</span>fullContentLenght_Arquivo</a></span></li><li><span><a href=\"#title\" data-toc-modified-id=\"title-1.5.1.3.2\"><span class=\"toc-item-num\">1.5.1.3.2&nbsp;&nbsp;</span>title</a></span></li><li><span><a href=\"#crawledDate\" data-toc-modified-id=\"crawledDate-1.5.1.3.3\"><span class=\"toc-item-num\">1.5.1.3.3&nbsp;&nbsp;</span>crawledDate</a></span></li><li><span><a href=\"#url\" data-toc-modified-id=\"url-1.5.1.3.4\"><span class=\"toc-item-num\">1.5.1.3.4&nbsp;&nbsp;</span>url</a></span></li><li><span><a href=\"#domain\" data-toc-modified-id=\"domain-1.5.1.3.5\"><span class=\"toc-item-num\">1.5.1.3.5&nbsp;&nbsp;</span>domain</a></span></li></ul></li><li><span><a href=\"#By-URL---Newspaper3k-=-True\" data-toc-modified-id=\"By-URL---Newspaper3k-=-True-1.5.1.4\"><span class=\"toc-item-num\">1.5.1.4&nbsp;&nbsp;</span>By URL - Newspaper3k = True</a></span><ul class=\"toc-item\"><li><span><a href=\"#fullContentLenght_Newspaper3K\" data-toc-modified-id=\"fullContentLenght_Newspaper3K-1.5.1.4.1\"><span class=\"toc-item-num\">1.5.1.4.1&nbsp;&nbsp;</span>fullContentLenght_Newspaper3K</a></span></li><li><span><a href=\"#Summary_Newspaper3k\" data-toc-modified-id=\"Summary_Newspaper3k-1.5.1.4.2\"><span class=\"toc-item-num\">1.5.1.4.2&nbsp;&nbsp;</span>Summary_Newspaper3k</a></span></li><li><span><a href=\"#title\" data-toc-modified-id=\"title-1.5.1.4.3\"><span class=\"toc-item-num\">1.5.1.4.3&nbsp;&nbsp;</span>title</a></span></li><li><span><a href=\"#crawledDate\" data-toc-modified-id=\"crawledDate-1.5.1.4.4\"><span class=\"toc-item-num\">1.5.1.4.4&nbsp;&nbsp;</span>crawledDate</a></span></li><li><span><a href=\"#url\" data-toc-modified-id=\"url-1.5.1.4.5\"><span class=\"toc-item-num\">1.5.1.4.5&nbsp;&nbsp;</span>url</a></span></li><li><span><a href=\"#domain\" data-toc-modified-id=\"domain-1.5.1.4.6\"><span class=\"toc-item-num\">1.5.1.4.6&nbsp;&nbsp;</span>domain</a></span></li></ul></li></ul></li></ul></li></ul></li><li><span><a href=\"#Time-Matters-(Multiple-Docs)\" data-toc-modified-id=\"Time-Matters-(Multiple-Docs)-2\"><span class=\"toc-item-num\">2&nbsp;&nbsp;</span>Time-Matters (Multiple Docs)</a></span><ul class=\"toc-item\"><li><span><a href=\"#Score\" data-toc-modified-id=\"Score-2.1\"><span class=\"toc-item-num\">2.1&nbsp;&nbsp;</span>Score</a></span><ul class=\"toc-item\"><li><span><a href=\"#ByCorpus\" data-toc-modified-id=\"ByCorpus-2.1.1\"><span class=\"toc-item-num\">2.1.1&nbsp;&nbsp;</span>ByCorpus</a></span></li><li><span><a href=\"#ByDoc\" data-toc-modified-id=\"ByDoc-2.1.2\"><span class=\"toc-item-num\">2.1.2&nbsp;&nbsp;</span>ByDoc</a></span></li><li><span><a href=\"#ByDocSentence\" data-toc-modified-id=\"ByDocSentence-2.1.3\"><span class=\"toc-item-num\">2.1.3&nbsp;&nbsp;</span>ByDocSentence</a></span></li></ul></li><li><span><a href=\"#Temporal-Expressions\" data-toc-modified-id=\"Temporal-Expressions-2.2\"><span class=\"toc-item-num\">2.2&nbsp;&nbsp;</span>Temporal Expressions</a></span></li><li><span><a href=\"#Relevant-Keywords\" data-toc-modified-id=\"Relevant-Keywords-2.3\"><span class=\"toc-item-num\">2.3&nbsp;&nbsp;</span>Relevant Keywords</a></span></li><li><span><a href=\"#Text-Normalized\" data-toc-modified-id=\"Text-Normalized-2.4\"><span class=\"toc-item-num\">2.4&nbsp;&nbsp;</span>Text Normalized</a></span></li><li><span><a href=\"#Text-Tokens\" data-toc-modified-id=\"Text-Tokens-2.5\"><span class=\"toc-item-num\">2.5&nbsp;&nbsp;</span>Text Tokens</a></span></li><li><span><a href=\"#Sentences-Normalized\" data-toc-modified-id=\"Sentences-Normalized-2.6\"><span class=\"toc-item-num\">2.6&nbsp;&nbsp;</span>Sentences Normalized</a></span></li><li><span><a href=\"#Sentences-Tokens\" data-toc-modified-id=\"Sentences-Tokens-2.7\"><span class=\"toc-item-num\">2.7&nbsp;&nbsp;</span>Sentences Tokens</a></span></li><li><span><a href=\"#Optional-Parameters\" data-toc-modified-id=\"Optional-Parameters-2.8\"><span class=\"toc-item-num\">2.8&nbsp;&nbsp;</span>Optional Parameters</a></span><ul class=\"toc-item\"><li><span><a href=\"#Temporal-Tagger\" data-toc-modified-id=\"Temporal-Tagger-2.8.1\"><span class=\"toc-item-num\">2.8.1&nbsp;&nbsp;</span>Temporal Tagger</a></span></li><li><span><a href=\"#Time-Matters\" data-toc-modified-id=\"Time-Matters-2.8.2\"><span class=\"toc-item-num\">2.8.2&nbsp;&nbsp;</span>Time Matters</a></span></li></ul></li><li><span><a href=\"#Debug\" data-toc-modified-id=\"Debug-2.9\"><span class=\"toc-item-num\">2.9&nbsp;&nbsp;</span>Debug</a></span><ul class=\"toc-item\"><li><span><a href=\"#Inverted-Index\" data-toc-modified-id=\"Inverted-Index-2.9.1\"><span class=\"toc-item-num\">2.9.1&nbsp;&nbsp;</span>Inverted Index</a></span></li><li><span><a href=\"#Dice-Matrix\" data-toc-modified-id=\"Dice-Matrix-2.9.2\"><span class=\"toc-item-num\">2.9.2&nbsp;&nbsp;</span>Dice Matrix</a></span></li><li><span><a href=\"#Execution-Time\" data-toc-modified-id=\"Execution-Time-2.9.3\"><span class=\"toc-item-num\">2.9.3&nbsp;&nbsp;</span>Execution Time</a></span></li></ul></li></ul></li><li><span><a href=\"#Related-Projects\" data-toc-modified-id=\"Related-Projects-3\"><span class=\"toc-item-num\">3&nbsp;&nbsp;</span>Related Projects</a></span></li><li><span><a href=\"#References\" data-toc-modified-id=\"References-4\"><span class=\"toc-item-num\">4&nbsp;&nbsp;</span>References</a></span></li></ul></div>"
   ]
  },
  {
   "cell_type": "markdown",
   "metadata": {
    "slideshow": {
     "slide_type": "slide"
    }
   },
   "source": [
    "## Time-Matters-Query"
   ]
  },
  {
   "cell_type": "markdown",
   "metadata": {},
   "source": [
    "### What is Time-Matters-Query?"
   ]
  },
  {
   "cell_type": "markdown",
   "metadata": {},
   "source": [
    "Time matters query is a [python package](https://github.com/LIAAD/Time-Matters-Query) that aims to score the relevance of temporal expressions found (through time matters [package](https://github.com/LIAAD/Time-Matters)) within a set of texts. To get these texts, users are given the chance to query a system. The current version of this package offers users the chance to get results from the [Arquivo.pt](http://arquivo.pt), portuguese web archive, yet other systems may be easily added."
   ]
  },
  {
   "cell_type": "markdown",
   "metadata": {},
   "source": [
    "### Who developed this package?"
   ]
  },
  {
   "cell_type": "markdown",
   "metadata": {},
   "source": [
    "Time matters query is the result of a research conducted by Ricardo Campos during his [PhD](http://www.ccc.ipt.pt/~ricardo/ficheiros/PhDThesis_RCampos.pdf) at the [University of Porto](https://www.up.pt/). It builds on top of Time matters algorithm, which was originally implemented in C#. Current version, however, is now available as a Python package, developed by [Jorge Mendes](https://github.com/JMendes1995) under the supervision of [Professor Ricardo Campos](http://www.ccc.ipt.pt/~ricardo/) in the scope of the Final Project of the Computer Science degree of the [Polytechnic Institute of Tomar](http://portal2.ipt.pt/), Portugal."
   ]
  },
  {
   "cell_type": "markdown",
   "metadata": {},
   "source": [
    "### Where can I find Time-Matters?"
   ]
  },
  {
   "cell_type": "markdown",
   "metadata": {},
   "source": [
    "`Time-Matters-Query` can be found as a standalone installation on [github](https://github.com/LIAAD/Time-Matters-Query) and as an API [http://time-matters-query.inesctec.pt/api]."
   ]
  },
  {
   "cell_type": "markdown",
   "metadata": {},
   "source": [
    "### Installation"
   ]
  },
  {
   "cell_type": "markdown",
   "metadata": {},
   "source": [
    "If you want to use Time-Matters-Query please refer to the installation instructions [here](https://github.com/LIAAD/Time-Matters-Query#How-to-Install-Time-Matters) defined."
   ]
  },
  {
   "cell_type": "markdown",
   "metadata": {},
   "source": [
    "### Usage"
   ]
  },
  {
   "cell_type": "markdown",
   "metadata": {},
   "source": [
    "In the following, we show how to consume results obtained from the [Arquivo.pt](http://arquivo.pt) portuguese web archive."
   ]
  },
  {
   "cell_type": "markdown",
   "metadata": {},
   "source": [
    "#### Arquivo.pt"
   ]
  },
  {
   "cell_type": "markdown",
   "metadata": {},
   "source": [
    "User's are offered the chance to either issue a query (ByQuery section) or to provide an URL (ByURL section) where to look for information. To make this happen, we make use of the textsearch and of the versionHistory feature provided by Arquivo.pt (a description of both APIs is available [here](https://github.com/arquivo/pwa-technologies/wiki/Arquivo.pt-API-v.0.2))."
   ]
  },
  {
   "cell_type": "markdown",
   "metadata": {},
   "source": [
    "##### By Query"
   ]
  },
  {
   "cell_type": "markdown",
   "metadata": {},
   "source": [
    "The following code enables one to make use of the Arquivo.pt textSearch feature (e.g. https://arquivo.pt/textsearch?q=guerra%20na%20s%C3%ADria) assuming its default parameters. Executing this code allows full-text search and accessing preserved web content together with related metadata."
   ]
  },
  {
   "cell_type": "code",
   "execution_count": null,
   "metadata": {},
   "outputs": [],
   "source": [
    "from Time_Matters_Query import ArquivoPT\n",
    "\n",
    "arquivo = ArquivoPT()\n",
    "\n",
    "query = 'guerra na síria'\n",
    "results = arquivo.getResult(query)"
   ]
  },
  {
   "cell_type": "code",
   "execution_count": null,
   "metadata": {},
   "outputs": [],
   "source": [
    "results"
   ]
  },
  {
   "cell_type": "markdown",
   "metadata": {},
   "source": [
    "`results` is a list with 2 positions. The first, is a dictionary with general information regarding the execution time, number of docs retrieved, number of unique domains and list of domains. The second, is a list with as much items as the number of texts retrieved by the Arquivo.pt (which in the case of the default parameters, is 50 max_items)."
   ]
  },
  {
   "cell_type": "markdown",
   "metadata": {},
   "source": [
    "In addition to this, user's may opt to specify some parameters, in particular:\n",
    "- `max_items`: maximum number of items to retrieve (default number is 50, maximum number is 2000);\n",
    "- `offset`: the position of the text indices where the search begins (default is 0);\n",
    "- `newspaper3k`: flag variable that determines whether to rely on the arquivo.pt API results (default is newspaper3k=False) or on the [newspaper3k](https://newspaper.readthedocs.io/en/latest/) library to extract the contents of a web page (in whihc case newspaper3k is set to true). The first is quicker. The latter extracts a cleaner text;\n",
    "- `domains`: limits the search within a given site (e.g., ['http://publico.pt/']) or sites (e.g., ['http://publico.pt/', 'http://www.jn.pt/']). Doing the latter, means that the specified number of `max_items` will be retrieved for each domain (default is searching within the entire index);\n",
    "- `beginDate`: Set an initial date for the time span of the search. Format: YYYYMMDDHHMMSS, also accepts a shorter date fotmat, e.g. (YYYY). Default: 1996;\n",
    "- `endDate`: Set a end date for the time span of the search. Format: YYYYMMDDHHMMSS, also accepts a shorter date format, for example (YYYY). Default: Current Year-1"
   ]
  },
  {
   "cell_type": "markdown",
   "metadata": {},
   "source": [
    "In the following, we aim to obtain `max_items` results for each of the URLs defined in the `domains` for the query `guerra na síria` ranging from `2009` until `2020`. Setting `newspaper3k` to `False` means that we will rely on the results retrieved by the arquivo.pt API. Also note that the fact that we require `max_items` items per domain, doesn't necessarily mean that we will get them, as that number of items may not be available in the Arquivo.pt web archive indexes under the conditions set."
   ]
  },
  {
   "cell_type": "markdown",
   "metadata": {},
   "source": [
    "The following code is asking for the title, snippet and the full content of the webpages (as all of them are set as True). Please note that obtaining the full content of a webpage might consume a couple of time as doing that requires accessing each webpage and downloading its content (which can be quite large - as is the case of wikipedia webpages)."
   ]
  },
  {
   "cell_type": "code",
   "execution_count": null,
   "metadata": {},
   "outputs": [],
   "source": [
    "from Time_Matters_Query import ArquivoPT\n",
    "\n",
    "domains = [ 'http://publico.pt/', 'http://www.dn.pt/', 'http://dnoticias.pt/', 'http://www.rtp.pt/', 'http://www.cmjornal.pt/', 'http://www.iol.pt/', 'http://www.tvi24.iol.pt/', 'http://noticias.sapo.pt/', 'http://www.sapo.pt/', 'http://expresso.sapo.pt/', 'http://sol.sapo.pt/', 'http://www.jornaldenegocios.pt/', 'http://abola.pt/', 'http://www.jn.pt/', 'http://sicnoticias.sapo.pt/', 'http://www.lux.iol.pt/', 'http://www.ionline.pt/', 'http://news.google.pt/', 'http://www.dinheirovivo.pt/', 'http://www.aeiou.pt/', 'http://www.tsf.pt/', 'http://meiosepublicidade.pt/', 'http://www.sabado.pt/', 'http://economico.sapo.pt/']\n",
    "beginDate = '2009'\n",
    "endDate = '2020'\n",
    "query = 'guerra na síria'\n",
    "max_items=20\n",
    "\n",
    "arquivo = ArquivoPT (max_items, newspaper3k=False)\n",
    "results = arquivo.getResult(query,domains, beginDate, endDate, title=True, snippet=True, fullContent=True)"
   ]
  },
  {
   "cell_type": "markdown",
   "metadata": {},
   "source": [
    "The output as previously referred is a list consisting of two positions. The first, is a dictionary with general information regarding the execution time, number of docs retrieved, number of unique domains and list of domains."
   ]
  },
  {
   "cell_type": "code",
   "execution_count": null,
   "metadata": {},
   "outputs": [],
   "source": [
    "results"
   ]
  },
  {
   "cell_type": "markdown",
   "metadata": {},
   "source": [
    "The second, is a list with as much items as the number of texts set by the user and found by the Arquivo.pt in their indexes."
   ]
  },
  {
   "cell_type": "code",
   "execution_count": null,
   "metadata": {},
   "outputs": [],
   "source": [
    "len(results[1])"
   ]
  },
  {
   "cell_type": "markdown",
   "metadata": {},
   "source": [
    "Each item returned contains a dictionary with the following information:\n",
    "- `fullContentLenght_Arquivo`: full text as returned by the Arquivo.pt API;\n",
    "- `snippet`: a short snippet of the text retrieved  by the Arquivo.pt API;\n",
    "- `crawledDate`: crawling date time of the Arquivo.pt API;\n",
    "- `title`: title of the web page  by the Arquivo.pt API;\n",
    "- `url`: url of the archived web page  by the Arquivo.pt API;\n",
    "- `domain`: absolut domain of the web page  by the Arquivo.pt API. For instance `https://arquivo.pt/wayback/20000613173529/http://www.jn.pt/textos/out1061.htm` correponds to `http://www.jn.pt/`."
   ]
  },
  {
   "cell_type": "code",
   "execution_count": null,
   "metadata": {},
   "outputs": [],
   "source": [
    "results[1][0]"
   ]
  },
  {
   "cell_type": "markdown",
   "metadata": {},
   "source": [
    "###### fullContentLenght_Arquivo"
   ]
  },
  {
   "cell_type": "code",
   "execution_count": null,
   "metadata": {},
   "outputs": [],
   "source": [
    "fullText = results[1][0]['fullContentLenght_Arquivo']\n",
    "fullText"
   ]
  },
  {
   "cell_type": "markdown",
   "metadata": {},
   "source": [
    "Ter acesso à totalidade dos textos é possível com recurso ao seguinte código:"
   ]
  },
  {
   "cell_type": "code",
   "execution_count": null,
   "metadata": {},
   "outputs": [],
   "source": [
    "ListOfTexts = [result['fullContentLenght_Arquivo'] for result in results[1]]\n",
    "ListOfTexts"
   ]
  },
  {
   "cell_type": "markdown",
   "metadata": {},
   "source": [
    "###### snippet"
   ]
  },
  {
   "cell_type": "code",
   "execution_count": null,
   "metadata": {},
   "outputs": [],
   "source": [
    "snippet = results[1][0]['snippet']\n",
    "snippet"
   ]
  },
  {
   "cell_type": "markdown",
   "metadata": {},
   "source": [
    "Ter acesso à totalidade dos snippets é possível a partir do seguinte código:"
   ]
  },
  {
   "cell_type": "code",
   "execution_count": null,
   "metadata": {},
   "outputs": [],
   "source": [
    "ListOfTexts = [result['snippet'] for result in results[1]]\n",
    "ListOfTexts"
   ]
  },
  {
   "cell_type": "markdown",
   "metadata": {},
   "source": [
    "###### title"
   ]
  },
  {
   "cell_type": "code",
   "execution_count": null,
   "metadata": {},
   "outputs": [],
   "source": [
    "title = results[1][0]['title']\n",
    "title"
   ]
  },
  {
   "cell_type": "markdown",
   "metadata": {},
   "source": [
    "Ter acesso à totalidade dos titles é possível a partir do seguinte código:"
   ]
  },
  {
   "cell_type": "code",
   "execution_count": null,
   "metadata": {},
   "outputs": [],
   "source": [
    "ListOfTexts = [result['title'] for result in results[1]]\n",
    "ListOfTexts"
   ]
  },
  {
   "cell_type": "markdown",
   "metadata": {},
   "source": [
    "###### crawledDate"
   ]
  },
  {
   "cell_type": "code",
   "execution_count": null,
   "metadata": {},
   "outputs": [],
   "source": [
    "crawledDate = results[1][0]['crawledDate']\n",
    "crawledDate"
   ]
  },
  {
   "cell_type": "markdown",
   "metadata": {},
   "source": [
    "###### url"
   ]
  },
  {
   "cell_type": "code",
   "execution_count": null,
   "metadata": {},
   "outputs": [],
   "source": [
    "url = results[1][0]['url']\n",
    "url"
   ]
  },
  {
   "cell_type": "markdown",
   "metadata": {},
   "source": [
    "###### domain"
   ]
  },
  {
   "cell_type": "code",
   "execution_count": null,
   "metadata": {},
   "outputs": [],
   "source": [
    "domain = results[1][0]['domain']\n",
    "domain"
   ]
  },
  {
   "cell_type": "markdown",
   "metadata": {},
   "source": [
    "##### By Query - Newspaper3k = True"
   ]
  },
  {
   "cell_type": "markdown",
   "metadata": {},
   "source": [
    "Instead, we can set `newspaper3k = True`:"
   ]
  },
  {
   "cell_type": "code",
   "execution_count": null,
   "metadata": {},
   "outputs": [],
   "source": [
    "from Time_Matters_Query import ArquivoPT\n",
    "\n",
    "max_items=20\n",
    "arquivo = ArquivoPT(max_items, newspaper3k=True)\n",
    "domains = [ 'http://publico.pt/', 'http://www.dn.pt/', 'http://dnoticias.pt/', 'http://www.rtp.pt/', 'http://www.cmjornal.pt/', 'http://www.iol.pt/', 'http://www.tvi24.iol.pt/', 'http://noticias.sapo.pt/', 'http://www.sapo.pt/', 'http://expresso.sapo.pt/', 'http://sol.sapo.pt/', 'http://www.jornaldenegocios.pt/', 'http://abola.pt/', 'http://www.jn.pt/', 'http://sicnoticias.sapo.pt/', 'http://www.lux.iol.pt/', 'http://www.ionline.pt/', 'http://news.google.pt/', 'http://www.dinheirovivo.pt/', 'http://www.aeiou.pt/', 'http://www.tsf.pt/', 'http://meiosepublicidade.pt/', 'http://www.sabado.pt/', 'http://economico.sapo.pt/']\n",
    "beginDate = '2009'\n",
    "endDate = '2020'\n",
    "q = 'guerra na síria'\n",
    "results = arquivo.getResult(q,domains, beginDate, endDate, title=True, snippet=True, fullContent=True)"
   ]
  },
  {
   "cell_type": "markdown",
   "metadata": {},
   "source": [
    "The output as previously referred is a list consisting of two positions. The first, is a dictionary with general information regarding the execution time, number of docs retrieved, number of unique domains and list of domains."
   ]
  },
  {
   "cell_type": "code",
   "execution_count": null,
   "metadata": {},
   "outputs": [],
   "source": [
    "results[0]"
   ]
  },
  {
   "cell_type": "markdown",
   "metadata": {},
   "source": [
    "Based on that, we will have access to the following fields:\n",
    "- `fullContentLenght_Newspaper3K`: full text as returned by the newspaper 3k library;\n",
    "- `Summary_Newspaper3k`: a summary (kind of snippet) returned by the newspaper 3k library; \n",
    "- `snippet`: a short snippet of the text retrieved by the Arquivo.pt API;\n",
    "- `crawledDate`: crawling date time of Arquivo.pt;\n",
    "- `title`: title of the web page retrieved by the Arquivo.pt API;\n",
    "- `url`: url of the archived web page retrieved by the Arquivo.pt API;\n",
    "- `domain`: absolut domain of the web page retrieved by the Arquivo.pt API. For instance `https://arquivo.pt/wayback/20000613173529/http://www.jn.pt/textos/out1061.htm` correponds to `http://www.jn.pt/`."
   ]
  },
  {
   "cell_type": "code",
   "execution_count": null,
   "metadata": {},
   "outputs": [],
   "source": [
    "results[1][0]"
   ]
  },
  {
   "cell_type": "markdown",
   "metadata": {},
   "source": [
    "###### fullContentLenght_Newspaper3K"
   ]
  },
  {
   "cell_type": "code",
   "execution_count": null,
   "metadata": {},
   "outputs": [],
   "source": [
    "fullText = results[1][0]['fullContentLenght_Newspaper3K']\n",
    "fullText"
   ]
  },
  {
   "cell_type": "markdown",
   "metadata": {},
   "source": [
    "Ter acesso à totalidade dos textos é possível com recurso ao seguinte código:"
   ]
  },
  {
   "cell_type": "code",
   "execution_count": null,
   "metadata": {},
   "outputs": [],
   "source": [
    "ListOfTexts = [result['fullContentLenght_Newspaper3K'] for result in results[1]]\n",
    "ListOfTexts"
   ]
  },
  {
   "cell_type": "markdown",
   "metadata": {},
   "source": [
    "###### Summary_Newspaper3k"
   ]
  },
  {
   "cell_type": "code",
   "execution_count": null,
   "metadata": {},
   "outputs": [],
   "source": [
    "summary = results[1][0]['Summary_Newspaper3k']\n",
    "summary"
   ]
  },
  {
   "cell_type": "markdown",
   "metadata": {},
   "source": [
    "Ter acesso à totalidade dos sumários é possível com recurso ao seguinte código:"
   ]
  },
  {
   "cell_type": "code",
   "execution_count": null,
   "metadata": {},
   "outputs": [],
   "source": [
    "ListOfTexts = [result['Summary_Newspaper3k'] for result in results[1]]\n",
    "ListOfTexts"
   ]
  },
  {
   "cell_type": "markdown",
   "metadata": {},
   "source": [
    "###### snippet"
   ]
  },
  {
   "cell_type": "code",
   "execution_count": null,
   "metadata": {},
   "outputs": [],
   "source": [
    "snippet = results[1][0]['snippet']\n",
    "snippet"
   ]
  },
  {
   "cell_type": "markdown",
   "metadata": {},
   "source": [
    "Ter acesso à totalidade dos snippets é possível com recurso ao seguinte código:"
   ]
  },
  {
   "cell_type": "code",
   "execution_count": null,
   "metadata": {},
   "outputs": [],
   "source": [
    "ListOfTexts = [result['snippet'] for result in results[1]]\n",
    "ListOfTexts"
   ]
  },
  {
   "cell_type": "markdown",
   "metadata": {},
   "source": [
    "###### title"
   ]
  },
  {
   "cell_type": "code",
   "execution_count": null,
   "metadata": {},
   "outputs": [],
   "source": [
    "title = results[1][0]['title']\n",
    "title"
   ]
  },
  {
   "cell_type": "markdown",
   "metadata": {},
   "source": [
    "Ter acesso à totalidade dos titles é possível com recurso ao seguinte código:"
   ]
  },
  {
   "cell_type": "code",
   "execution_count": null,
   "metadata": {},
   "outputs": [],
   "source": [
    "ListOfTexts = [result['title'] for result in results[1]]\n",
    "ListOfTexts"
   ]
  },
  {
   "cell_type": "markdown",
   "metadata": {},
   "source": [
    "###### url"
   ]
  },
  {
   "cell_type": "code",
   "execution_count": null,
   "metadata": {},
   "outputs": [],
   "source": [
    "url = results[1][0]['url']\n",
    "url"
   ]
  },
  {
   "cell_type": "markdown",
   "metadata": {},
   "source": [
    "###### domain"
   ]
  },
  {
   "cell_type": "code",
   "execution_count": null,
   "metadata": {},
   "outputs": [],
   "source": [
    "domain = results[1][0]['domain']\n",
    "domain"
   ]
  },
  {
   "cell_type": "markdown",
   "metadata": {},
   "source": [
    "##### By URL"
   ]
  },
  {
   "cell_type": "markdown",
   "metadata": {},
   "source": [
    "The following code enables one to make use of the Arquivo.pt versionHistory feature (e.g. https://arquivo.pt/textsearch?versionHistory=http://www.abola.pt) assuming its default parameters. Executing this code allows to search by URL, accessing all versions of the preserved web content."
   ]
  },
  {
   "cell_type": "code",
   "execution_count": null,
   "metadata": {},
   "outputs": [],
   "source": [
    "from Time_Matters_Query.arquivoPT_url import ArquivoPT_url\n",
    "\n",
    "url = 'http://www.abola.pt'\n",
    "\n",
    "arquivo_url = ArquivoPT_url()\n",
    "results = arquivo_url.getResult(url)"
   ]
  },
  {
   "cell_type": "markdown",
   "metadata": {},
   "source": [
    "`results` is a list with 2 positions. The first, is a dictionary with general information regarding the execution time, number of docs retrieved, number of unique domains and list of domains. The second, is a list with as much items as the number of texts retrieved by the Arquivo.pt (which in the case of the default parameters, is 50 max_items)."
   ]
  },
  {
   "cell_type": "markdown",
   "metadata": {},
   "source": [
    "In addition to this, user's may opt to specify some parameters, in particular:\n",
    "- `max_items`: maximum number of items to retrieve (default number is 50, maximum number is 2000);\n",
    "- `offset`: the position of the text indices where the search begins (default is 0);\n",
    "- `newspaper3k`: flag variable that determines whether to rely on the arquivo.pt API results (default is newspaper3k=False) or on the [newspaper3k](https://newspaper.readthedocs.io/en/latest/) library to extract the contents of a web page (in which case newspaper3k is set to true). The first is quicker. The latter extracts a cleaner text;\n",
    "- `beginDate`: Set an initial date for the time span of the search. Format: YYYYMMDDHHMMSS, also accepts a shorter date fotmat, e.g. (YYYY). Default: 1996;\n",
    "- `endDate`: Set a end date for the time span of the search. Format: YYYYMMDDHHMMSS, also accepts a shorter date format, for example (YYYY). Default: Current Year-1"
   ]
  },
  {
   "cell_type": "markdown",
   "metadata": {},
   "source": [
    "In the following, we aim to obtain `max_items` results of the url  `http://www.abola.pt` ranging from `2009` until `2020`. Setting `newspaper3k` to `False` means that we will rely on the results retrieved by the arquivo.pt API. Also note that the fact that we require `max_items` items, doesn't necessarily mean that we will get them, as that number of items may not be available in the Arquivo.pt web archive indexes under the conditions set."
   ]
  },
  {
   "cell_type": "markdown",
   "metadata": {},
   "source": [
    "The following code is asking for the title and the full content of the webpages (as all of them are set as True). Please note that obtaining the full content of a webpage might consume a couple of time as doing that requires accessing each webpage and downloading its content."
   ]
  },
  {
   "cell_type": "code",
   "execution_count": null,
   "metadata": {},
   "outputs": [],
   "source": [
    "from Time_Matters_Query.arquivoPT_url import ArquivoPT_url\n",
    "\n",
    "max_items=20\n",
    "url = 'http://www.abola.pt'\n",
    "beginDate = '2009'\n",
    "endDate = '2020'\n",
    "\n",
    "arquivo_url = ArquivoPT_url(max_items, newspaper3k=False)\n",
    "\n",
    "results = arquivo_url.getResult(url, beginDate, endDate, title=True,fullContent=True)"
   ]
  },
  {
   "cell_type": "markdown",
   "metadata": {},
   "source": [
    "The output as previously referred is a list consisting of two positions. The first, is a dictionary with general information regarding the execution time, number of docs retrieved, number of unique domains and list of domains."
   ]
  },
  {
   "cell_type": "code",
   "execution_count": null,
   "metadata": {},
   "outputs": [],
   "source": [
    "results[0]"
   ]
  },
  {
   "cell_type": "markdown",
   "metadata": {},
   "source": [
    "The second, is a list with as much items as the number of texts set by the user and found by the Arquivo.pt in their indexes. In this code example, we ask for 15 items (per domain)."
   ]
  },
  {
   "cell_type": "code",
   "execution_count": null,
   "metadata": {},
   "outputs": [],
   "source": [
    "len(results[1])"
   ]
  },
  {
   "cell_type": "markdown",
   "metadata": {},
   "source": [
    "Each item returned contains a dictionary with the following information:\n",
    "- `fullContentLenght_Arquivo`: full text as returned by the Arquivo.pt API;\n",
    "- `crawledDate`: crawling date time of the Arquivo.pt API;\n",
    "- `title`: title of the web page  by the Arquivo.pt API;\n",
    "- `url`: url of the archived web page  by the Arquivo.pt API;\n",
    "- `domain`: absolut domain of the web page  by the Arquivo.pt API. For instance `\"https://arquivo.pt/textextracted?m=https%3A%2F%2Fwww.abola.pt%2F%2F20181231180031\"` correponds to `http://www.abola.pt/`."
   ]
  },
  {
   "cell_type": "code",
   "execution_count": null,
   "metadata": {},
   "outputs": [],
   "source": [
    "results[1][0]"
   ]
  },
  {
   "cell_type": "markdown",
   "metadata": {},
   "source": [
    "###### fullContentLenght_Arquivo"
   ]
  },
  {
   "cell_type": "code",
   "execution_count": null,
   "metadata": {},
   "outputs": [],
   "source": [
    "fullText = results[1][0]['fullContentLenght_Arquivo']\n",
    "fullText"
   ]
  },
  {
   "cell_type": "markdown",
   "metadata": {},
   "source": [
    "Ter acesso à totalidade dos textos é possível com recurso ao seguinte código:"
   ]
  },
  {
   "cell_type": "code",
   "execution_count": null,
   "metadata": {},
   "outputs": [],
   "source": [
    "ListOfTexts = [result['fullContentLenght_Arquivo'] for result in results[1]]\n",
    "ListOfTexts"
   ]
  },
  {
   "cell_type": "markdown",
   "metadata": {},
   "source": [
    "###### title"
   ]
  },
  {
   "cell_type": "code",
   "execution_count": null,
   "metadata": {},
   "outputs": [],
   "source": [
    "title = results[1][0]['title']\n",
    "title"
   ]
  },
  {
   "cell_type": "markdown",
   "metadata": {},
   "source": [
    "Ter acesso à totalidade dos titles é possível com recurso ao seguinte código:"
   ]
  },
  {
   "cell_type": "code",
   "execution_count": null,
   "metadata": {},
   "outputs": [],
   "source": [
    "ListOfTexts = [result['title'] for result in results[1]]\n",
    "ListOfTexts"
   ]
  },
  {
   "cell_type": "markdown",
   "metadata": {},
   "source": [
    "###### crawledDate"
   ]
  },
  {
   "cell_type": "code",
   "execution_count": null,
   "metadata": {},
   "outputs": [],
   "source": [
    "crawledDate = results[1][0]['crawledDate']\n",
    "crawledDate"
   ]
  },
  {
   "cell_type": "markdown",
   "metadata": {},
   "source": [
    "###### url"
   ]
  },
  {
   "cell_type": "code",
   "execution_count": null,
   "metadata": {},
   "outputs": [],
   "source": [
    "url = results[1][0]['url']\n",
    "url"
   ]
  },
  {
   "cell_type": "markdown",
   "metadata": {},
   "source": [
    "###### domain"
   ]
  },
  {
   "cell_type": "code",
   "execution_count": null,
   "metadata": {},
   "outputs": [],
   "source": [
    "domain = results[1][0]['domain']\n",
    "domain"
   ]
  },
  {
   "cell_type": "markdown",
   "metadata": {},
   "source": [
    "##### By URL - Newspaper3k = True"
   ]
  },
  {
   "cell_type": "markdown",
   "metadata": {},
   "source": [
    "Instead, we can set `newspaper3k = True`:"
   ]
  },
  {
   "cell_type": "code",
   "execution_count": null,
   "metadata": {},
   "outputs": [],
   "source": [
    "from Time_Matters_Query.arquivoPT_url import ArquivoPT_url\n",
    "\n",
    "max_items=20\n",
    "url = 'http://www.abola.pt'\n",
    "beginDate = '2009'\n",
    "endDate = '2020'\n",
    "\n",
    "arquivo_url = ArquivoPT_url(max_items, newspaper3k=True)\n",
    "\n",
    "results = arquivo_url.getResult(url, beginDate, endDate, title=True,fullContent=True)"
   ]
  },
  {
   "cell_type": "markdown",
   "metadata": {},
   "source": [
    "Based on that, we will have access to the following fields:"
   ]
  },
  {
   "cell_type": "markdown",
   "metadata": {},
   "source": [
    "- `fullContentLenght_Newspaper3K`: full text as returned by the newspaper 3k library;\n",
    "- `Summary_Newspaper3k`: a summary (kind of snippet) returned by the newspaper 3k library; \n",
    "- `crawledDate`: crawling date time of Arquivo.pt;\n",
    "- `title`: title of the web page retrieved by the Arquivo.pt API;\n",
    "- `url`: url of the archived web page retrieved by the Arquivo.pt API;\n",
    "- `domain`: absolut domain of the web page retrieved by the Arquivo.pt API. For instance `\"https://arquivo.pt/textextracted?m=https%3A%2F%2Fwww.abola.pt%2F%2F20181231180031\"` correponds to `http://www.abola.pt/`."
   ]
  },
  {
   "cell_type": "code",
   "execution_count": null,
   "metadata": {},
   "outputs": [],
   "source": [
    "results[1][0]"
   ]
  },
  {
   "cell_type": "markdown",
   "metadata": {},
   "source": [
    "###### fullContentLenght_Newspaper3K"
   ]
  },
  {
   "cell_type": "code",
   "execution_count": null,
   "metadata": {},
   "outputs": [],
   "source": [
    "fullText = results[1][0]['fullContentLenght_Newspaper3K']\n",
    "fullText"
   ]
  },
  {
   "cell_type": "markdown",
   "metadata": {},
   "source": [
    "Ter acesso à totalidade dos textos é possível com recurso ao seguinte código:"
   ]
  },
  {
   "cell_type": "code",
   "execution_count": null,
   "metadata": {},
   "outputs": [],
   "source": [
    "ListOfTexts = [result['fullContentLenght_Newspaper3K'] for result in results[1]]\n",
    "ListOfTexts"
   ]
  },
  {
   "cell_type": "markdown",
   "metadata": {},
   "source": [
    "###### Summary_Newspaper3k"
   ]
  },
  {
   "cell_type": "code",
   "execution_count": null,
   "metadata": {},
   "outputs": [],
   "source": [
    "summary = results[1][0]['Summary_Newspaper3k']\n",
    "summary"
   ]
  },
  {
   "cell_type": "markdown",
   "metadata": {},
   "source": [
    "Ter acesso à totalidade dos sumários é possível com recurso ao seguinte código:"
   ]
  },
  {
   "cell_type": "code",
   "execution_count": null,
   "metadata": {},
   "outputs": [],
   "source": [
    "ListOfTexts = [result['Summary_Newspaper3k'] for result in results[1]]\n",
    "ListOfTexts"
   ]
  },
  {
   "cell_type": "markdown",
   "metadata": {},
   "source": [
    "###### title"
   ]
  },
  {
   "cell_type": "code",
   "execution_count": null,
   "metadata": {},
   "outputs": [],
   "source": [
    "title = results[1][0]['title']\n",
    "title"
   ]
  },
  {
   "cell_type": "markdown",
   "metadata": {},
   "source": [
    "Ter acesso à totalidade dos titles é possível com recurso ao seguinte código:"
   ]
  },
  {
   "cell_type": "code",
   "execution_count": null,
   "metadata": {},
   "outputs": [],
   "source": [
    "ListOfTexts = [result['title'] for result in results[1]]\n",
    "ListOfTexts"
   ]
  },
  {
   "cell_type": "markdown",
   "metadata": {},
   "source": [
    "###### crawledDate"
   ]
  },
  {
   "cell_type": "code",
   "execution_count": null,
   "metadata": {},
   "outputs": [],
   "source": [
    "crawledDate = results[1][0]['crawledDate']\n",
    "crawledDate"
   ]
  },
  {
   "cell_type": "markdown",
   "metadata": {},
   "source": [
    "###### url"
   ]
  },
  {
   "cell_type": "code",
   "execution_count": null,
   "metadata": {},
   "outputs": [],
   "source": [
    "url = results[1][0]['url']\n",
    "url"
   ]
  },
  {
   "cell_type": "markdown",
   "metadata": {},
   "source": [
    "###### domain"
   ]
  },
  {
   "cell_type": "code",
   "execution_count": null,
   "metadata": {},
   "outputs": [],
   "source": [
    "domain = results[1][0]['domain']\n",
    "domain"
   ]
  },
  {
   "cell_type": "markdown",
   "metadata": {},
   "source": [
    "## Time-Matters (Multiple Docs)"
   ]
  },
  {
   "cell_type": "markdown",
   "metadata": {},
   "source": [
    "If you want to use Time-Matters please refer to the installation instructions [here](https://github.com/LIAAD/Time-Matters#How-to-Install-Time-Matters) defined. A more detailed explanation of Time-Matters is also available [here](http://www.ccc.ipt.pt/~ricardo/APIs_Packages/TemporalTaggers/3time-matters.html)"
   ]
  },
  {
   "cell_type": "markdown",
   "metadata": {},
   "source": [
    "Once we have the texts collected, we can now send them for Time-Matters (Multiple Docs) to execute."
   ]
  },
  {
   "cell_type": "markdown",
   "metadata": {},
   "source": [
    "In the following, we will make use of some (snippet) texts related to \"guerra na síria\" collected from a number of domains."
   ]
  },
  {
   "cell_type": "code",
   "execution_count": null,
   "metadata": {},
   "outputs": [],
   "source": [
    "from Time_Matters_Query import ArquivoPT\n",
    "\n",
    "domains = [ 'http://publico.pt/', 'http://www.dn.pt/', 'http://dnoticias.pt/', 'http://www.rtp.pt/', 'http://www.cmjornal.pt/', 'http://www.iol.pt/', 'http://www.tvi24.iol.pt/', 'http://noticias.sapo.pt/', 'http://www.sapo.pt/', 'http://expresso.sapo.pt/', 'http://sol.sapo.pt/', 'http://www.jornaldenegocios.pt/', 'http://abola.pt/', 'http://www.jn.pt/', 'http://sicnoticias.sapo.pt/', 'http://www.lux.iol.pt/', 'http://www.ionline.pt/', 'http://news.google.pt/', 'http://www.dinheirovivo.pt/', 'http://www.aeiou.pt/', 'http://www.tsf.pt/', 'http://meiosepublicidade.pt/', 'http://www.sabado.pt/', 'http://economico.sapo.pt/']\n",
    "beginDate = '2009'\n",
    "endDate = '2020'\n",
    "query = 'guerra na síria'\n",
    "max_items=20\n",
    "\n",
    "arquivo = ArquivoPT (max_items, newspaper3k=False)\n",
    "results = arquivo.getResult(query,domains, beginDate, endDate, title=True, snippet=True, fullContent=False)\n",
    "\n",
    "ListOfTexts = [result['snippet'] for result in results[1]]\n",
    "ListOfTexts"
   ]
  },
  {
   "cell_type": "markdown",
   "metadata": {},
   "source": [
    "### Score"
   ]
  },
  {
   "cell_type": "markdown",
   "metadata": {},
   "source": [
    "The structure of the score depends on the type of extraction considered: `ByCorpus`, `ByDoc` or `ByDocSentence`."
   ]
  },
  {
   "cell_type": "markdown",
   "metadata": {},
   "source": [
    "#### ByCorpus"
   ]
  },
  {
   "cell_type": "markdown",
   "metadata": {},
   "source": [
    "Getting temporal scores by a corpus of documents is possible through the following code: `results = Time_Matters_MultipleDocs(ListOfTexts)`. This configuration assumes \"py_heideltime\" as the default temporal tagger (more about this [here](https://github.com/LIAAD/wiki/How-to-use-Time-Matters-MultipleDocs#Temporal-Expressions)), \"ByCorpus\" as the default score_type and the default parameters of time_matters. In this configuration, a single score will be retrieved for a temporal expression regardless it occurs in different documents."
   ]
  },
  {
   "cell_type": "markdown",
   "metadata": {},
   "source": [
    "Running this code, however, will take a considerable amount of time (depending on the PC used) as Heideltime temporal tagger will be running on top of a number of texts. If you want a quicker solution (though not effective) you should use a rule-based approach instead (more about this on the Optional Parameters section)."
   ]
  },
  {
   "cell_type": "code",
   "execution_count": null,
   "metadata": {},
   "outputs": [],
   "source": [
    "from Time_Matters_MultipleDocs import Time_Matters_MultipleDocs\n",
    "results = Time_Matters_MultipleDocs(ListOfTexts, temporal_tagger=['rule_based'])\n",
    "\n",
    "#rule-based approach\n",
    "#results = Time_Matters_MultipleDocs(ListOfTexts, temporal_tagger=['rule_based', 'year'])"
   ]
  },
  {
   "cell_type": "markdown",
   "metadata": {},
   "source": [
    "The output is a dictionary where the key is the normalized temporal expression and the value is a list with two positions. The first is the score of the temporal expression. The second is a dictionary of the instances of the temporal expression (as they were found in each document). Example: `{'2011-01-12': [1.0, {0: ['2011-01-12', '12 January 2011'], 6: ['2011-01-12']}]}`, means that the normalized temporal expression `2011-01-12` has a score of 1 and occurs twice (the first time as `2011-01-12`, and the second time as `12 January 2011`) in document 0 and one time (as '2011-01-12') in document 6. "
   ]
  },
  {
   "cell_type": "code",
   "execution_count": null,
   "metadata": {},
   "outputs": [],
   "source": [
    "Score = results[0]\n",
    "Score"
   ]
  },
  {
   "cell_type": "markdown",
   "metadata": {},
   "source": [
    "If you are only interested in accessing the keys and the scores run the following code:"
   ]
  },
  {
   "cell_type": "code",
   "execution_count": null,
   "metadata": {},
   "outputs": [],
   "source": [
    "for TempExpr in Score:\n",
    "    print(f'{TempExpr}; {Score[TempExpr][0]}')"
   ]
  },
  {
   "cell_type": "markdown",
   "metadata": {},
   "source": [
    "#### ByDoc"
   ]
  },
  {
   "cell_type": "markdown",
   "metadata": {},
   "source": [
    "Getting temporal scores by document is possible through the following code. This configuration is set to consider \"py_heideltime\" as the default temporal tagger (more about this [here](https://github.com/LIAAD/wiki/How-to-use-Time-Matters-MultipleDocs#Temporal-Expressions)), \"ByDoc\" as the score_type and the default parameters of time_matters. In this configuration, multiple occurrences of a temporal expression in different documents, will return multiple (eventually different) scores (e.g., 0.92 for the occurrence of 2019 in sentence 1 of document 1; and 0.77 for the occurrence of 2019 in sentence 2 of document 1). Once again, we apply the `year` granularity to avoid getting too many fine-grained temporal expressions. Yet, you are more than welcome to alternatively run the following code: `results = Time_Matters_MultipleDocs(ListOfTexts, score_type='ByDoc')`."
   ]
  },
  {
   "cell_type": "code",
   "execution_count": null,
   "metadata": {},
   "outputs": [],
   "source": [
    "results = Time_Matters_MultipleDocs(ListOfTexts, score_type='ByDoc', temporal_tagger=['py_heideltime', 'Portuguese', 'year', 'news'])\n",
    "\n",
    "#rule-based approach\n",
    "#results = Time_Matters_MultipleDocs(ListOfTexts, score_type='ByDoc', temporal_tagger=['rule_based', 'year'])"
   ]
  },
  {
   "cell_type": "markdown",
   "metadata": {},
   "source": [
    "The output is a dictionary where the key is the normalized temporal expression and the value is a dictionary (where the key is the DocID and the value is a list with two positions. The first is the score of the temporal expression in that particular document. The second is a list of the instances of the temporal expression (as they were found in the text in that particular document). Example: `{'2010': {1: [0.2, ['2010']], 5: [0.983, ['2010', '2010']]}}`, means that the normalized temporal expression `2010` has a score of 0.2 in the document with ID 1, and a score of 0.983 in the document with ID 5 (where it occurs two times)."
   ]
  },
  {
   "cell_type": "code",
   "execution_count": null,
   "metadata": {},
   "outputs": [],
   "source": [
    "Score = results[0]\n",
    "Score"
   ]
  },
  {
   "cell_type": "markdown",
   "metadata": {},
   "source": [
    "If you are only interested in accessing the keys and the scores run the following code:"
   ]
  },
  {
   "cell_type": "code",
   "execution_count": null,
   "metadata": {},
   "outputs": [],
   "source": [
    "for TempExpr in Score:\n",
    "    print(f'{TempExpr}')\n",
    "    for docID in Score[TempExpr]:\n",
    "        print(f'\\t docID = {docID}; score = {Score[TempExpr][docID][0]}')\n"
   ]
  },
  {
   "cell_type": "markdown",
   "metadata": {},
   "source": [
    "Or the following code if, for each temporal expression found, you want to reverse order by score:"
   ]
  },
  {
   "cell_type": "code",
   "execution_count": null,
   "metadata": {},
   "outputs": [],
   "source": [
    "for TempExpr in Score:\n",
    "    print(f'{TempExpr}')\n",
    "    for item in sorted(Score[TempExpr].items(), key = lambda x: x[1][0],reverse=True):\n",
    "        print(f'\\t docID = {item[0]}; score = {item[1][0]}')"
   ]
  },
  {
   "cell_type": "markdown",
   "metadata": {},
   "source": [
    "#### ByDocSentence"
   ]
  },
  {
   "cell_type": "markdown",
   "metadata": {},
   "source": [
    "Getting temporal scores by document & sentence is possible through the following code. This configuration is set to consider \"py_heideltime\" as the default temporal tagger (more about this [here](https://github.com/LIAAD/wiki/How-to-use-Time-Matters-MultipleDocs#Temporal-Expressions)), \"ByDoc&Sentence\" as the score_type and the default parameters of time_matters. In this configuration, multiple occurrences of a temporal expression in different sentences of a given document, will return multiple (eventually different) scores (e.g., 0.2 for its occurrence in document 1; and 0.982 for its occurrence in document 2). Once again, we apply the `year` granularity to avoid getting too many fine-grained temporal expressions. Yet, you are more than welcome to alternatively run the following code: `results = Time_Matters_MultipleDocs(ListOfTexts, score_type='ByDocSentence')`."
   ]
  },
  {
   "cell_type": "code",
   "execution_count": null,
   "metadata": {},
   "outputs": [],
   "source": [
    "#results = Time_Matters_MultipleDocs(ListOfTexts, score_type='ByDocSentence', temporal_tagger=['py_heideltime', 'Portuguese', 'year', 'news'])\n",
    "\n",
    "#rule-based approach\n",
    "results = Time_Matters_MultipleDocs(ListOfTexts, score_type='ByDocSentence', temporal_tagger=['rule_based', 'year'])"
   ]
  },
  {
   "cell_type": "markdown",
   "metadata": {},
   "source": [
    "The output is a dictionary where the key is the normalized temporal expression and the value is a dictionary (where the key is the DocID and the value is a new dictionary (where the key is the sentenceID and the value is list with two positions. The first is the score of the temporal expression in that particular sentence. The second is a list of the instances of the temporal expression (as they were found in the text in that particular setencent of that document)). Example: `{'2011': {0: {5: [0.983, ['2010', '2010']], {6: [0.183, ['2010']]}}`, means that the normalized temporal expression `2011` has a score of 0.983 in the sentence with ID 5 (where it occurs twice) of docID 0, and a score of 0.183 in the sentence with ID 6 of docID 0."
   ]
  },
  {
   "cell_type": "code",
   "execution_count": null,
   "metadata": {},
   "outputs": [],
   "source": [
    "Score = results[0]\n",
    "Score"
   ]
  },
  {
   "cell_type": "markdown",
   "metadata": {},
   "source": [
    "If you are only interested in accessing the keys and the scores run the following code:"
   ]
  },
  {
   "cell_type": "code",
   "execution_count": null,
   "metadata": {},
   "outputs": [],
   "source": [
    "for TempExpr in Score:\n",
    "    print(f'{TempExpr}')\n",
    "    for docID in Score[TempExpr]:\n",
    "        print(f'\\t docID = {docID}')\n",
    "        for sentenceID in Score[TempExpr][docID]:\n",
    "            print(f'\\t\\t sentenceID = {sentenceID}; score = {Score[TempExpr][docID][sentenceID][0]}')"
   ]
  },
  {
   "cell_type": "markdown",
   "metadata": {},
   "source": [
    "Or the following code if, for each temporal expression found, you want to reverse order by score:"
   ]
  },
  {
   "cell_type": "code",
   "execution_count": null,
   "metadata": {},
   "outputs": [],
   "source": [
    "for TempExpr in Score:\n",
    "    print(f'{TempExpr}')\n",
    "    for docID in Score[TempExpr]:\n",
    "        print(f'\\t docID = {docID}')\n",
    "        for item in sorted(Score[TempExpr][docID].items(), key = lambda x: x[1][0],reverse=True):\n",
    "            print(f'\\t \\t sentenceID = {item[0]}; score = {item[1][0]}')"
   ]
  },
  {
   "cell_type": "markdown",
   "metadata": {},
   "source": [
    "### Temporal Expressions"
   ]
  },
  {
   "cell_type": "markdown",
   "metadata": {},
   "source": [
    "- <b>TempExpressions</b>:  A dictionary, where the key is the docID and the value is a list of tuples, each having two positions. The first is the normalized temporal expression. The second is the temporal expression as it was found in the text. The order in which the elements appear in the list, reflect the order of the temporal expressions in the text. Example: `{0: [('1975-02-11TAF', 'the afternoon of February 11, 1975'),..]}`."
   ]
  },
  {
   "cell_type": "code",
   "execution_count": null,
   "metadata": {},
   "outputs": [],
   "source": [
    "TempExpressions = results[1]\n",
    "TempExpressions"
   ]
  },
  {
   "cell_type": "markdown",
   "metadata": {},
   "source": [
    "### Relevant Keywords"
   ]
  },
  {
   "cell_type": "markdown",
   "metadata": {},
   "source": [
    "- <b>RelevantKWs</b>: a dictionary where the key is the docID and the value is a dictionary of the relevant keywords (and corresponding scores). In our algorithm, keywords are detected by [YAKE!](https://github.com/LIAAD/yake). If you want to know more about the role of YAKE! in Time-Matters, please refer to the following [link](https://github.com/LIAAD/Time-Matters#Text-Representation). Example: `{0: {'haiti': 0.03, 'haiti earthquake': 0.07}}` means that the tokens `haiti` and `haiti earthquake` were determined as relevant keywords by YAKE! keyword extractor with the scores 0.03 and 0.07 (the lower the score the more relevant the keyword is) in docID 0."
   ]
  },
  {
   "cell_type": "code",
   "execution_count": null,
   "metadata": {},
   "outputs": [],
   "source": [
    "RelevantKWs = results[2]\n",
    "RelevantKWs"
   ]
  },
  {
   "cell_type": "markdown",
   "metadata": {},
   "source": [
    "### Text Normalized"
   ]
  },
  {
   "cell_type": "markdown",
   "metadata": {},
   "source": [
    "- <b>TextNormalized</b>: A normalized version of the text, a dictionary, where the key is the docID and the value is a string, where temporal expressions are marked with the tag `<d>` and relevant keywords with the tag `<kw>`. Example: `{0: 'As of <d>2010</d> (see 1500 photos here), the following major earthquakes have been recorded in <kw>haiti</kw>.'}`"
   ]
  },
  {
   "cell_type": "code",
   "execution_count": null,
   "metadata": {},
   "outputs": [],
   "source": [
    "TextNormalized = results[3]\n",
    "TextNormalized"
   ]
  },
  {
   "cell_type": "markdown",
   "metadata": {},
   "source": [
    "### Text Tokens"
   ]
  },
  {
   "cell_type": "markdown",
   "metadata": {},
   "source": [
    "- <b>TextTokens</b>: A dictionary where the key is the docID and the value is a list of the text tokens. Tokens that are temporal expressions are marked with the tag `<d>`, whereas relevant keywords are marked with the tag `<kw>`. Example: `{0: ['As', 'of', '<d>2010</d>', 'see', '1500',...]}`."
   ]
  },
  {
   "cell_type": "code",
   "execution_count": null,
   "metadata": {},
   "outputs": [],
   "source": [
    "TextTokens = results[4]\n",
    "TextTokens"
   ]
  },
  {
   "cell_type": "markdown",
   "metadata": {},
   "source": [
    "### Sentences Normalized"
   ]
  },
  {
   "cell_type": "markdown",
   "metadata": {},
   "source": [
    "- <b>SentencesNormalized</b>: A dictionary, where the key is the docID and the value is a list of the normalized version of the sentence text (position 0 of the list corresponds to sentence 0, etc). Temporal expressions found in the text are marked with the tag `<d>` while relevant keywords are marked with the tag `<kw>`; Example: `{0: [..., 'As of <d>2010</d> (see 1500 photos here), the following major earthquakes have been recorded in <kw>haiti</kw>.',...]}`."
   ]
  },
  {
   "cell_type": "code",
   "execution_count": null,
   "metadata": {},
   "outputs": [],
   "source": [
    "SentencesNormalized = results[5]\n",
    "SentencesNormalized"
   ]
  },
  {
   "cell_type": "markdown",
   "metadata": {},
   "source": [
    "### Sentences Tokens"
   ]
  },
  {
   "cell_type": "markdown",
   "metadata": {},
   "source": [
    "- <b>SentencesTokens</b>:  A dictionary, where the key is the docID and the value is a list of the text tokens by sentence, that is a list of lists (position 0 of the list gives the tokens of sentence 0, etc). Tokens that are temporal expressions are marked with the tag `<d>`, whereas relevant keywords are marked with the tag `<kw>`. Example: `{0: [[...,..], ['As', 'of', '<d>2010</d>', 'see', '1500',...], [...,..],]}`."
   ]
  },
  {
   "cell_type": "code",
   "execution_count": null,
   "metadata": {},
   "outputs": [],
   "source": [
    "SentencesTokens = results[6]\n",
    "SentencesTokens"
   ]
  },
  {
   "cell_type": "markdown",
   "metadata": {},
   "source": [
    "### Optional Parameters"
   ]
  },
  {
   "cell_type": "markdown",
   "metadata": {},
   "source": [
    "Apart from the *score_type* (ByCorpus, ByDoc and ByDocSentence) there are also parameters regarding the *temporal_tagger* and *time_matters*."
   ]
  },
  {
   "cell_type": "markdown",
   "metadata": {},
   "source": [
    "#### Temporal Tagger"
   ]
  },
  {
   "cell_type": "markdown",
   "metadata": {},
   "source": [
    "While 'py_heideltime' is the default temporal tagger, a 'rule_based' approach can be used instead. In the following, we assume the default parameters of the rule-based approach, that is: date_granularity is \"full\" (highest possible granularity detected will be retrieved), begin_date is 0 and end_date is 2100 which means that all the dates within this range will be retrieved. Instead, we can specify a more fine-grained granularity, such as `year` and a `begin` and `end date` which would result in the following code: `results = Time_Matters_SingleDoc(text, temporal_tagger=['rule_based', 'year', 2000, 2011])`. However, in the following code, we resort to the default parameter values of the rule-based approach."
   ]
  },
  {
   "cell_type": "code",
   "execution_count": null,
   "metadata": {},
   "outputs": [],
   "source": [
    "results = Time_Matters_MultipleDocs(ListOfTexts, temporal_tagger=['rule_based'])"
   ]
  },
  {
   "cell_type": "code",
   "execution_count": null,
   "metadata": {},
   "outputs": [],
   "source": [
    "Score = results[0]\n",
    "Score"
   ]
  },
  {
   "cell_type": "markdown",
   "metadata": {},
   "source": [
    "If you are only interested in accessing the keys and the scores run the following code:"
   ]
  },
  {
   "cell_type": "code",
   "execution_count": null,
   "metadata": {},
   "outputs": [],
   "source": [
    "for TempExpr in Score:\n",
    "    print(f'{TempExpr}; {Score[TempExpr][0]}')"
   ]
  },
  {
   "cell_type": "markdown",
   "metadata": {},
   "source": [
    "In addition, a few other parameters (already experienced before) are available to `py_heideltime`, namely:"
   ]
  },
  {
   "cell_type": "markdown",
   "metadata": {},
   "source": [
    "- `language`: <b>English</b> - default; <b>Portuguese</b>; <b>Spanish</b>; <b>Germany</b>; <b>Dutch</b>; <b>Italian</b>; and <b>French</b>. To know how to configure py_heideltime for other languages please refer to this [link](https://github.com/JMendes1995/py_heideltime);\n",
    "- `date granularity`: <b>\"full\"</b>  - default (Highest possible granularity detected will be retrieved); <b>\"year\"</b> (YYYY will be retrieved); <b>\"month\"</b> (YYYY-MM will be retrieved); <b>\"day\"</b> (YYYY-MM-DD will be retrieved). Note that this parameter can also be used with the rule_based model.\n",
    "- `document type` <b>\"news\"</b>  - default (news-style documents); <b>\"narrative\"</b> (narrative-style documents (e.g., Wikipedia articles)); <b>\"colloquial\"</b> (English colloquial (e.g., Tweets and SMS)); <b>\"scientific\"</b> (scientific articles (e.g., clinical trails))\n",
    "- `document creation time`: in the format <b>YYYY-MM-DD</b>"
   ]
  },
  {
   "cell_type": "markdown",
   "metadata": {},
   "source": [
    "#### Time Matters"
   ]
  },
  {
   "cell_type": "markdown",
   "metadata": {},
   "source": [
    "- **n-gram**: maximum number of terms a keyword might have. Default value is *1* (but any value > 0 is considered. For instance n = 1 means that single tokens such as \"keyword\" can be considered; instead n = 2 means that \"keyword\" but also \"keyword extractor\" can be considered). More about this [here](https://github.com/LIAAD/Time-Matters#Text-Representation) and [here](https://github.com/LIAAD/Time-Matters#Relevant-Keywords). \n",
    "- **num_of_keywords**: number of YAKE! keywords to extract from the text. Default value is *10* (but any value > 0 is considered) meaning that the system will extract 10 relevant keywords from the text. More about this [here](https://github.com/LIAAD/Time-Matters#Text-Representation) and [here](https://github.com/LIAAD/Time-Matters#Relevant-Keywords). \n",
    "- **n_contextual_window**: defines the n-contextual window distance. Default value is \"*full_document*\" when the score type is ByCorpus, or \"*full_sentence*\" (but a n-window where n > 0 can be considered as alternative) when the score type is ByDoc or ByDocSentence. More about this [here](https://github.com/LIAAD/Time-Matters#Computing-Dice).\n",
    "- **N**: size of the context vector for X and Y at InfoSimba. Default value is '10' (but any value > 0 is considered). You can also define 'max' meaning that the context vector should have the maximum number of n-terms co-occurring with X (likewise with Y). This option however will require a huge amount of time (depending on the PC) to execute. More about this [here](https://github.com/LIAAD/Time-Matters#Context-Vectors).\n",
    "- **TH**: minimum threshold value from which terms are eligible to the context vector X and Y at InfoSimba. Default value is *0.05* (but any value > 0 is considered) meaning that any terms co-occuring between them with a DICE similarity value > 0.05 are eligible for the n-size vector. More about this [here](https://github.com/LIAAD/Time-Matters#Context-Vectors)."
   ]
  },
  {
   "cell_type": "markdown",
   "metadata": {},
   "source": [
    "The following code assumes a score-type of `ByCorpus`, the default parameters of the `temporal_tagger` (such as `py_heideltime`) and specifies the five parameters (also the default ones) for time_matters."
   ]
  },
  {
   "cell_type": "code",
   "execution_count": null,
   "metadata": {},
   "outputs": [],
   "source": [
    "results = Time_Matters_MultipleDocs(ListOfTexts, time_matters=[1, 10, 'full_document', 10, 0.05])"
   ]
  },
  {
   "cell_type": "markdown",
   "metadata": {},
   "source": [
    "More interistingly is that if we consider a different n-gram for the keywords. In the following we consider n = 3."
   ]
  },
  {
   "cell_type": "code",
   "execution_count": null,
   "metadata": {},
   "outputs": [],
   "source": [
    "results = Time_Matters_MultipleDocs(ListOfTexts, time_matters=[3, 10, 'full_document', 10, 0.05])"
   ]
  },
  {
   "cell_type": "markdown",
   "metadata": {},
   "source": [
    "Note (before executing the following code) that in this case, we didn't define the granularity to year, thus we will get a huge number of temporal expressions."
   ]
  },
  {
   "cell_type": "code",
   "execution_count": null,
   "metadata": {},
   "outputs": [],
   "source": [
    "Score = results[0]\n",
    "Score"
   ]
  },
  {
   "cell_type": "code",
   "execution_count": null,
   "metadata": {},
   "outputs": [],
   "source": [
    "RelevantKWs = results[2]\n",
    "RelevantKWs"
   ]
  },
  {
   "cell_type": "code",
   "execution_count": null,
   "metadata": {},
   "outputs": [],
   "source": [
    "TextNormalized = results[3]\n",
    "TextNormalized"
   ]
  },
  {
   "cell_type": "markdown",
   "metadata": {},
   "source": [
    "### Debug"
   ]
  },
  {
   "cell_type": "markdown",
   "metadata": {},
   "source": [
    "We also offer the user a debug mode where users can access a more detailed version of the results. Thus in addition to the fields already explained before we also make available the InvertedIndex, the DiceMatrix and the ExecutionTime."
   ]
  },
  {
   "cell_type": "markdown",
   "metadata": {},
   "source": [
    "To this regard, we consider the following code with `debug_mode=True`, thus assuming the score_type `ByCorpus`, and the default parameters of `temporal_tagger` (thus with heideltime) and of `time_matters`."
   ]
  },
  {
   "cell_type": "code",
   "execution_count": null,
   "metadata": {},
   "outputs": [],
   "source": [
    "results = Time_Matters_MultipleDocs(ListOfTexts, debug_mode=True)\n",
    "\n",
    "#likewise:\n",
    "#results = Time_Matters_MultipleDocs(ListOfTexts, score_type='ByCorpus', temporal_tagger=['py_heideltime', 'English', 'year', 'news', '2013-04-15'], time_matters=[1, 10, 'full_document', 10, 0.05], debug_mode=True)"
   ]
  },
  {
   "cell_type": "code",
   "execution_count": null,
   "metadata": {},
   "outputs": [],
   "source": [
    "Score = results[0]\n",
    "Score"
   ]
  },
  {
   "cell_type": "markdown",
   "metadata": {},
   "source": [
    "#### Inverted Index"
   ]
  },
  {
   "cell_type": "markdown",
   "metadata": {},
   "source": [
    "- <b>InvertedIndex</b>: An inverted index of the entire set of documents, most notably of its relevant keywords and temporal expressions. It follows the following dictionary structure: `{'term' : [DF, TotFreq, {DocID : [FreqInDoc, [OffsetsDoc], {SentenceID :  [FreqInSentence, [OffsetsSentence]]}]}]`, where `DF` is the `Document Frequency`, `TotFreq` is the `total frequency` of the term within the entire corpus of documents, `DocID` is the `ID of the document` (knowing that IDs start on 0), `FreqInDoc` is the frequency of the term in the document,  `[OffsetsDoc]` is a list of the document offsets, that is, a list of the position(s) where the term appears in the document, `SentenceID` is the `ID of the sentence`, `FreqInSentence` is the frequency of the term in the sentence, `OffsetsSentence` is a list of the sentence offsets, that is, a list of the position(s) where the term appears in the sentence. For instance, a term with the following structure `'2010': [1, 4, {1 : [4, [6, 13, 20, 27], {0 :  [2, [6, 13]], 1: [2, [20, 27]] }]}]` means that it has 4 occurrences in 1 document, in particular in the document with ID 1, namely in position 6, 13, 20, and 27, the first two occur in sentence ID 0, and the latter in sentence ID 1."
   ]
  },
  {
   "cell_type": "code",
   "execution_count": null,
   "metadata": {},
   "outputs": [],
   "source": [
    "InvertedIndex = results[7]\n",
    "InvertedIndex"
   ]
  },
  {
   "cell_type": "markdown",
   "metadata": {},
   "source": [
    "#### Dice Matrix"
   ]
  },
  {
   "cell_type": "markdown",
   "metadata": {},
   "source": [
    "- <b>DicMatrix</b>: It retrieves (in pandas format) the DICE matrix between each term according to the n-contextual window distance defined. For instance, a DICE similarity of 1 between `prime` and `minister` means that, whenever each of these terms occur, they always occur together. If you want to know more about the role of DICE in our algorithm please refer to this [link](https://github.com/LIAAD/Time-Matters#Computing-Dice)."
   ]
  },
  {
   "cell_type": "code",
   "execution_count": null,
   "metadata": {},
   "outputs": [],
   "source": [
    "DiceMatrix = results[8]\n",
    "DiceMatrix"
   ]
  },
  {
   "cell_type": "markdown",
   "metadata": {},
   "source": [
    "#### Execution Time"
   ]
  },
  {
   "cell_type": "markdown",
   "metadata": {},
   "source": [
    "- <b>ExecutionTime</b>: It retrieves information about the processing times of our algorithm, in particular, of the `TotalTime` required to execute the algorithm, but also of each of its most important components, namely: `heideltime_processing`, `text_normalization`, `YAKE`, `InvertedIndex`, `DICEMatrix` and `GTE`. As it can be observed from the example, most of the time is consumed by the `py_heideltime` component (which entails the heideltime_processing and the text_normalization process, that is, the tagging of the text with the <d> tag)."
   ]
  },
  {
   "cell_type": "code",
   "execution_count": null,
   "metadata": {},
   "outputs": [],
   "source": [
    "ExecutionTime = results[9]\n",
    "ExecutionTime"
   ]
  },
  {
   "cell_type": "markdown",
   "metadata": {},
   "source": [
    "## Related Projects"
   ]
  },
  {
   "cell_type": "markdown",
   "metadata": {},
   "source": [
    "Please check [py_rule_based](https://github.com/JMendes1995/py_rule_based) if you are interested in extracting dates by means of a rule-based model solution."
   ]
  },
  {
   "cell_type": "markdown",
   "metadata": {},
   "source": [
    "Please check py_heideltime [github package](https://github.com/JMendes1995/py_heideltime) or [docker image](https://hub.docker.com/r/liaad/py_heideltime) if you are interested in extracting temporal expressions using Heideltime Temporal Tagger."
   ]
  },
  {
   "cell_type": "markdown",
   "metadata": {},
   "source": [
    "## References"
   ]
  },
  {
   "cell_type": "markdown",
   "metadata": {},
   "source": [
    "If you use Time-Matters please cite the appropriate paper. In general, this will be:\n",
    "\n",
    "- Campos, R., Dias, G., Jorge, A. and Nunes, C. (2017). Identifying Top Relevant Dates for Implicit Time Sensitive Queries. In Information Retrieval Journal. Springer, Vol 20(4), pp 363-398 [[pdf]](https://link.springer.com/article/10.1007/s10791-017-9302-1)\n",
    "\n",
    "Other Time-Matters related papers may be found here:\n",
    "\n",
    "- Campos, R., Dias, G., Jorge, A. and Nunes, C. (2016). GTE-Rank: a Time-Aware Search Engine to Answer Time-Sensitive Queries. In Information Processing & Management an International Journal. Elsevier, Vol 52(2), pp. 273-298 [[pdf]](https://www.sciencedirect.com/science/article/abs/pii/S0306457315001016)\n",
    "\n",
    "- Campos, R., Dias, G., Jorge, A., and Nunes, C. (2014). GTE-Cluster: A Temporal Search Interface for Implicit Temporal Queries. In M. de Rijke et al. (Eds.), Lecture Notes in Computer Science - Advances in Information Retrieval - 36th European Conference on Information Retrieval (ECIR2014). Amesterdam, Netherlands, 13 - 16 April. (Vol. 8416-2014, pp. 775 - 779) [[pdf]](https://link.springer.com/chapter/10.1007/978-3-319-06028-6_94#page-1)\n",
    "\n",
    "- Campos, R., Jorge, A., Dias, G. and Nunes, C. (2012). Disambiguating Implicit Temporal Queries by Clustering Top Relevant Dates in Web Snippets. In Proceedings of The 2012 IEEE/WIC/ACM International Joint Conferences on Web Intelligence and Intelligent Agent Technologies Macau, China, 04 - 07 December, Vol. 1, pp 1 - 8. IEEE Computer Society Press. [[pdf]](https://ieeexplore.ieee.org/document/6511858?tp=&arnumber=6511858&url=http:%2F%2Fieeexplore.ieee.org%2Fxpls%2Fabs_all.jsp%3Farnumber%3D6511858)\n"
   ]
  }
 ],
 "metadata": {
  "kernelspec": {
   "display_name": "Python 3",
   "language": "python",
   "name": "python3"
  },
  "language_info": {
   "codemirror_mode": {
    "name": "ipython",
    "version": 3
   },
   "file_extension": ".py",
   "mimetype": "text/x-python",
   "name": "python",
   "nbconvert_exporter": "python",
   "pygments_lexer": "ipython3",
   "version": "3.6.5"
  },
  "toc": {
   "base_numbering": 1,
   "nav_menu": {},
   "number_sections": true,
   "sideBar": true,
   "skip_h1_title": true,
   "title_cell": "Table of Contents",
   "title_sidebar": "Contents",
   "toc_cell": true,
   "toc_position": {
    "height": "calc(100% - 180px)",
    "left": "10px",
    "top": "150px",
    "width": "261px"
   },
   "toc_section_display": true,
   "toc_window_display": true
  }
 },
 "nbformat": 4,
 "nbformat_minor": 2
}
